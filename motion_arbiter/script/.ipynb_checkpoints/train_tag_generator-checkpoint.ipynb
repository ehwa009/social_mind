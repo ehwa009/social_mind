{
 "cells": [
  {
   "cell_type": "markdown",
   "metadata": {
    "colab_type": "text",
    "id": "view-in-github"
   },
   "source": [
    "<a href=\"https://colab.research.google.com/github/Dark-Sied/Intent_Classification/blob/master/Intent_classification_final.ipynb\" target=\"_parent\"><img src=\"https://colab.research.google.com/assets/colab-badge.svg\" alt=\"Open In Colab\"/></a>"
   ]
  },
  {
   "cell_type": "code",
   "execution_count": 1,
   "metadata": {
    "colab": {
     "base_uri": "https://localhost:8080/",
     "height": 34
    },
    "colab_type": "code",
    "id": "a_WypuUXi92e",
    "outputId": "133d026e-4236-4ff6-f21d-739bfb9640db"
   },
   "outputs": [
    {
     "name": "stderr",
     "output_type": "stream",
     "text": [
      "Using TensorFlow backend.\n"
     ]
    }
   ],
   "source": [
    "import warnings\n",
    "warnings.filterwarnings('ignore', category=RuntimeWarning)\n",
    "\n",
    "from nltk.corpus import stopwords\n",
    "from nltk.tokenize import word_tokenize\n",
    "from nltk.stem.lancaster import LancasterStemmer\n",
    "\n",
    "from keras.preprocessing.text import Tokenizer\n",
    "from keras.preprocessing.sequence import pad_sequences\n",
    "from keras.utils import to_categorical\n",
    "from keras.models import Sequential, load_model\n",
    "from keras.layers import Dense, LSTM, Bidirectional, Embedding, Dropout\n",
    "from keras.callbacks import ModelCheckpoint\n",
    "from sklearn.model_selection import train_test_split\n",
    "from keras.callbacks import EarlyStopping\n",
    "\n",
    "from sklearn.metrics import classification_report, confusion_matrix\n",
    "\n",
    "import os\n",
    "import numpy as np\n",
    "import pandas as pd\n",
    "import nltk\n",
    "import re\n",
    "from sklearn.preprocessing import OneHotEncoder\n",
    "import matplotlib.pyplot as plt\n",
    "import csv"
   ]
  },
  {
   "cell_type": "code",
   "execution_count": 2,
   "metadata": {
    "colab": {},
    "colab_type": "code",
    "id": "LE6wywJrN2ih"
   },
   "outputs": [],
   "source": [
    "def load_dataset(filename):\n",
    "    df = pd.read_csv(filename, encoding = \"latin1\", names = [\"Sentence\", \"Intent\"])\n",
    "    df.head()\n",
    "    intent = df[\"Intent\"]\n",
    "    unique_intent = list(set(intent))\n",
    "    sentences = list(df[\"Sentence\"])\n",
    "    return (intent, unique_intent, sentences)"
   ]
  },
  {
   "cell_type": "code",
   "execution_count": 3,
   "metadata": {
    "colab": {
     "base_uri": "https://localhost:8080/",
     "height": 119
    },
    "colab_type": "code",
    "id": "tF0FQA7gjOCX",
    "outputId": "c609b42a-05da-49f5-8d11-bd670210f635"
   },
   "outputs": [
    {
     "name": "stdout",
     "output_type": "stream",
     "text": [
      "[u'multiple_choice', u'welcome', u'request', u'greeting', u'confirm_question', u'inform', u'confirm_answer', u'thanks', u'closing', u'Not_Sure']\n"
     ]
    }
   ],
   "source": [
    "intent, unique_intent, sentences = load_dataset(\"/home/ehwa009/catkin_ws/nao_ws/src/social_mind/motion_arbiter/data/intent_data.csv\")\n",
    "# intent, unique_intent, sentences = load_dataset(\"Dataset.csv\")\n",
    "print(unique_intent)"
   ]
  },
  {
   "cell_type": "code",
   "execution_count": 4,
   "metadata": {
    "colab": {
     "base_uri": "https://localhost:8080/",
     "height": 34
    },
    "colab_type": "code",
    "id": "O8LLUZlokg0S",
    "outputId": "c15c21dc-2ef2-43b7-b4af-e7ee9e014091"
   },
   "outputs": [
    {
     "name": "stdout",
     "output_type": "stream",
     "text": [
      "[u'Hello  i was wondering if you can tell me where a good restaurant is to book ', u'Sure  How many people are in your party ', u'Please book a table for 4 in Seattle for tomorrow at 8 00 PM at Bar Cotto under the name Matt Preston', u'Success  Your reservation has been confirmed  Please enjoy your meal ', u'Need a reservation for a soccer team about 12 kids and 6 adults  Pizza would be the best option for Sunday afternoon ']\n"
     ]
    }
   ],
   "source": [
    "print(sentences[:5])"
   ]
  },
  {
   "cell_type": "code",
   "execution_count": 5,
   "metadata": {
    "colab": {
     "base_uri": "https://localhost:8080/",
     "height": 102
    },
    "colab_type": "code",
    "id": "MhrziINPGHbW",
    "outputId": "0861af1b-4b82-4c92-b8f4-b6b57bb3e380"
   },
   "outputs": [
    {
     "name": "stdout",
     "output_type": "stream",
     "text": [
      "[nltk_data] Downloading package stopwords to\n",
      "[nltk_data]     /home/ehwa009/nltk_data...\n",
      "[nltk_data]   Package stopwords is already up-to-date!\n",
      "[nltk_data] Downloading package punkt to /home/ehwa009/nltk_data...\n",
      "[nltk_data]   Package punkt is already up-to-date!\n"
     ]
    },
    {
     "data": {
      "text/plain": [
       "True"
      ]
     },
     "execution_count": 5,
     "metadata": {},
     "output_type": "execute_result"
    }
   ],
   "source": [
    "nltk.download(\"stopwords\")\n",
    "nltk.download(\"punkt\")"
   ]
  },
  {
   "cell_type": "code",
   "execution_count": 6,
   "metadata": {
    "colab": {},
    "colab_type": "code",
    "id": "OmNLu2YSXePb"
   },
   "outputs": [],
   "source": [
    "#define stemmer\n",
    "stemmer = LancasterStemmer()"
   ]
  },
  {
   "cell_type": "code",
   "execution_count": 7,
   "metadata": {
    "colab": {},
    "colab_type": "code",
    "id": "j-7q3iG5PKYI"
   },
   "outputs": [],
   "source": [
    "def cleaning(sentences):\n",
    "    words = []\n",
    "    for s in sentences:\n",
    "        # clean = re.sub(r'[^ a-z A-Z 0-9]', \" \", s)\n",
    "        # w = word_tokenize(clean)\n",
    "        w = word_tokenize(str(s))\n",
    "        #stemming\n",
    "        words.append([i.lower() for i in w])\n",
    "    return words "
   ]
  },
  {
   "cell_type": "code",
   "execution_count": 8,
   "metadata": {
    "colab": {
     "base_uri": "https://localhost:8080/",
     "height": 51
    },
    "colab_type": "code",
    "id": "p1j2GJgDG6qj",
    "outputId": "c7232a8e-6833-4a1d-e71a-4bc7014084a9"
   },
   "outputs": [
    {
     "name": "stdout",
     "output_type": "stream",
     "text": [
      "24951\n",
      "[['hello', 'i', 'was', 'wondering', 'if', 'you', 'can', 'tell', 'me', 'where', 'a', 'good', 'restaurant', 'is', 'to', 'book'], ['sure', 'how', 'many', 'people', 'are', 'in', 'your', 'party'], ['please', 'book', 'a', 'table', 'for', '4', 'in', 'seattle', 'for', 'tomorrow', 'at', '8', '00', 'pm', 'at', 'bar', 'cotto', 'under', 'the', 'name', 'matt', 'preston'], ['success', 'your', 'reservation', 'has', 'been', 'confirmed', 'please', 'enjoy', 'your', 'meal'], ['need', 'a', 'reservation', 'for', 'a', 'soccer', 'team', 'about', '12', 'kids', 'and', '6', 'adults', 'pizza', 'would', 'be', 'the', 'best', 'option', 'for', 'sunday', 'afternoon']]\n"
     ]
    }
   ],
   "source": [
    "cleaned_words = cleaning(sentences)\n",
    "print(len(cleaned_words))\n",
    "print(cleaned_words[:5])  "
   ]
  },
  {
   "cell_type": "code",
   "execution_count": 9,
   "metadata": {
    "colab": {},
    "colab_type": "code",
    "id": "SJCQ_YhBJW7t"
   },
   "outputs": [],
   "source": [
    "def create_tokenizer(words, filters = '!\"#$%&()*+,-./:;<=>?@[\\]^_`{|}~'):\n",
    "    token = Tokenizer(filters = filters)\n",
    "    token.fit_on_texts(words)\n",
    "    return token"
   ]
  },
  {
   "cell_type": "code",
   "execution_count": 10,
   "metadata": {
    "colab": {},
    "colab_type": "code",
    "id": "QJhdIJC5Q3Q6"
   },
   "outputs": [],
   "source": [
    "def check_max_length(words):\n",
    "    return(len(max(words, key = len)))"
   ]
  },
  {
   "cell_type": "code",
   "execution_count": 11,
   "metadata": {
    "colab": {
     "base_uri": "https://localhost:8080/",
     "height": 34
    },
    "colab_type": "code",
    "id": "JWjxPGsZZJNX",
    "outputId": "b02c8f6b-d0df-4e90-fa3a-2ff730c88300"
   },
   "outputs": [
    {
     "name": "stdout",
     "output_type": "stream",
     "text": [
      "Vocab Size = 7821 and Maximum length = 49\n"
     ]
    }
   ],
   "source": [
    "word_tokenizer = create_tokenizer(cleaned_words)\n",
    "vocab_size = len(word_tokenizer.word_index) + 1\n",
    "max_length = check_max_length(cleaned_words)\n",
    "\n",
    "print(\"Vocab Size = %d and Maximum length = %d\" % (vocab_size, max_length))"
   ]
  },
  {
   "cell_type": "code",
   "execution_count": 12,
   "metadata": {
    "colab": {},
    "colab_type": "code",
    "id": "D0TXu2xsR8jq"
   },
   "outputs": [],
   "source": [
    "def encoding_doc(token, words):\n",
    "    return(token.texts_to_sequences(words))"
   ]
  },
  {
   "cell_type": "code",
   "execution_count": 13,
   "metadata": {
    "colab": {},
    "colab_type": "code",
    "id": "dE92Hk1Va--H"
   },
   "outputs": [
    {
     "name": "stdout",
     "output_type": "stream",
     "text": [
      "[[124, 3, 110, 494, 119, 1, 22, 161, 31, 194, 6, 63, 15, 18, 4, 16], [144, 36, 44, 24, 19, 9, 5, 43], [17, 16, 6, 27, 2, 59, 9, 47, 2, 50, 8, 76, 92, 42, 8, 88, 1134, 54, 11, 57, 1005, 1487], [226, 5, 14, 37, 49, 41, 17, 33, 5, 39], [62, 6, 14, 2, 6, 3296, 3297, 159, 251, 551, 12, 67, 654, 209, 10, 55, 11, 206, 421, 2, 218, 469]]\n"
     ]
    }
   ],
   "source": [
    "encoded_doc = encoding_doc(word_tokenizer, cleaned_words)\n",
    "print(encoded_doc[:5])"
   ]
  },
  {
   "cell_type": "code",
   "execution_count": 14,
   "metadata": {
    "colab": {},
    "colab_type": "code",
    "id": "fyOzLEboc4LZ"
   },
   "outputs": [],
   "source": [
    "def padding_doc(encoded_doc, max_length):\n",
    "    return(pad_sequences(encoded_doc, maxlen = max_length, padding = \"post\"))"
   ]
  },
  {
   "cell_type": "code",
   "execution_count": 15,
   "metadata": {
    "colab": {},
    "colab_type": "code",
    "id": "WdejoJrlc-tc"
   },
   "outputs": [],
   "source": [
    "padded_doc = padding_doc(encoded_doc, max_length)"
   ]
  },
  {
   "cell_type": "code",
   "execution_count": 16,
   "metadata": {
    "colab": {
     "base_uri": "https://localhost:8080/",
     "height": 272
    },
    "colab_type": "code",
    "id": "gDgTCS2KdI2p",
    "outputId": "ac5332cd-0a0f-4311-8db4-22df92728d90"
   },
   "outputs": [
    {
     "data": {
      "text/plain": [
       "array([[ 124,    3,  110,  494,  119,    1,   22,  161,   31,  194,    6,\n",
       "          63,   15,   18,    4,   16,    0,    0,    0,    0,    0,    0,\n",
       "           0,    0,    0,    0,    0,    0,    0,    0,    0,    0,    0,\n",
       "           0,    0,    0,    0,    0,    0,    0,    0,    0,    0,    0,\n",
       "           0,    0,    0,    0,    0],\n",
       "       [ 144,   36,   44,   24,   19,    9,    5,   43,    0,    0,    0,\n",
       "           0,    0,    0,    0,    0,    0,    0,    0,    0,    0,    0,\n",
       "           0,    0,    0,    0,    0,    0,    0,    0,    0,    0,    0,\n",
       "           0,    0,    0,    0,    0,    0,    0,    0,    0,    0,    0,\n",
       "           0,    0,    0,    0,    0],\n",
       "       [  17,   16,    6,   27,    2,   59,    9,   47,    2,   50,    8,\n",
       "          76,   92,   42,    8,   88, 1134,   54,   11,   57, 1005, 1487,\n",
       "           0,    0,    0,    0,    0,    0,    0,    0,    0,    0,    0,\n",
       "           0,    0,    0,    0,    0,    0,    0,    0,    0,    0,    0,\n",
       "           0,    0,    0,    0,    0],\n",
       "       [ 226,    5,   14,   37,   49,   41,   17,   33,    5,   39,    0,\n",
       "           0,    0,    0,    0,    0,    0,    0,    0,    0,    0,    0,\n",
       "           0,    0,    0,    0,    0,    0,    0,    0,    0,    0,    0,\n",
       "           0,    0,    0,    0,    0,    0,    0,    0,    0,    0,    0,\n",
       "           0,    0,    0,    0,    0],\n",
       "       [  62,    6,   14,    2,    6, 3296, 3297,  159,  251,  551,   12,\n",
       "          67,  654,  209,   10,   55,   11,  206,  421,    2,  218,  469,\n",
       "           0,    0,    0,    0,    0,    0,    0,    0,    0,    0,    0,\n",
       "           0,    0,    0,    0,    0,    0,    0,    0,    0,    0,    0,\n",
       "           0,    0,    0,    0,    0]], dtype=int32)"
      ]
     },
     "execution_count": 16,
     "metadata": {},
     "output_type": "execute_result"
    }
   ],
   "source": [
    "padded_doc[:5]"
   ]
  },
  {
   "cell_type": "code",
   "execution_count": 17,
   "metadata": {
    "colab": {
     "base_uri": "https://localhost:8080/",
     "height": 34
    },
    "colab_type": "code",
    "id": "3eaSIDi0dNf1",
    "outputId": "4ab6b6dd-ffa4-4061-9e9d-7a01decfa837"
   },
   "outputs": [
    {
     "name": "stdout",
     "output_type": "stream",
     "text": [
      "('Shape of padded docs = ', (24951, 49))\n"
     ]
    }
   ],
   "source": [
    "print(\"Shape of padded docs = \",padded_doc.shape)"
   ]
  },
  {
   "cell_type": "code",
   "execution_count": 18,
   "metadata": {
    "colab": {},
    "colab_type": "code",
    "id": "X0rXzenSpgFR"
   },
   "outputs": [],
   "source": [
    "#tokenizer with filter changed\n",
    "output_tokenizer = create_tokenizer(unique_intent, filters = '!\"#$%&()*+,-/:;<=>?@[\\]^`{|}~')\n"
   ]
  },
  {
   "cell_type": "code",
   "execution_count": 19,
   "metadata": {
    "colab": {
     "base_uri": "https://localhost:8080/",
     "height": 374
    },
    "colab_type": "code",
    "id": "yNHQtkszskxr",
    "outputId": "f5babc01-89e3-4392-e8e6-c9f257de3d07"
   },
   "outputs": [
    {
     "data": {
      "text/plain": [
       "{u'closing': 9,\n",
       " u'confirm_answer': 7,\n",
       " u'confirm_question': 5,\n",
       " u'greeting': 4,\n",
       " u'inform': 6,\n",
       " u'multiple_choice': 1,\n",
       " u'not_sure': 10,\n",
       " u'request': 3,\n",
       " u'thanks': 8,\n",
       " u'welcome': 2}"
      ]
     },
     "execution_count": 19,
     "metadata": {},
     "output_type": "execute_result"
    }
   ],
   "source": [
    "output_tokenizer.word_index"
   ]
  },
  {
   "cell_type": "code",
   "execution_count": 20,
   "metadata": {
    "colab": {},
    "colab_type": "code",
    "id": "7OOx9qdBto1-"
   },
   "outputs": [
    {
     "name": "stdout",
     "output_type": "stream",
     "text": [
      "[[3], [3], [3], [6], [3]]\n"
     ]
    }
   ],
   "source": [
    "encoded_output = encoding_doc(output_tokenizer, intent)\n",
    "print(encoded_output[:5])"
   ]
  },
  {
   "cell_type": "code",
   "execution_count": 21,
   "metadata": {
    "colab": {},
    "colab_type": "code",
    "id": "0_5Lv5PiyG-z"
   },
   "outputs": [],
   "source": [
    "encoded_output = np.array(encoded_output).reshape(len(encoded_output), 1)"
   ]
  },
  {
   "cell_type": "code",
   "execution_count": 22,
   "metadata": {
    "colab": {
     "base_uri": "https://localhost:8080/",
     "height": 34
    },
    "colab_type": "code",
    "id": "dpM86WrVQlx5",
    "outputId": "71ff52a6-b3d0-4b5c-850d-5dc0a56c8aa9"
   },
   "outputs": [
    {
     "data": {
      "text/plain": [
       "(24951, 1)"
      ]
     },
     "execution_count": 22,
     "metadata": {},
     "output_type": "execute_result"
    }
   ],
   "source": [
    "encoded_output.shape"
   ]
  },
  {
   "cell_type": "code",
   "execution_count": 23,
   "metadata": {
    "colab": {},
    "colab_type": "code",
    "id": "rD3QN-RPzfet"
   },
   "outputs": [],
   "source": [
    "def one_hot(encode):\n",
    "    o = OneHotEncoder(sparse = False)\n",
    "    return(o.fit_transform(encode))"
   ]
  },
  {
   "cell_type": "code",
   "execution_count": 24,
   "metadata": {
    "colab": {},
    "colab_type": "code",
    "id": "Z6wP_Xed7RNR"
   },
   "outputs": [
    {
     "name": "stdout",
     "output_type": "stream",
     "text": [
      "[[0. 0. 1. 0. 0. 0. 0. 0. 0. 0.]\n",
      " [0. 0. 1. 0. 0. 0. 0. 0. 0. 0.]\n",
      " [0. 0. 1. 0. 0. 0. 0. 0. 0. 0.]\n",
      " [0. 0. 0. 0. 0. 1. 0. 0. 0. 0.]\n",
      " [0. 0. 1. 0. 0. 0. 0. 0. 0. 0.]]\n"
     ]
    }
   ],
   "source": [
    "output_one_hot = one_hot(encoded_output)\n",
    "print(output_one_hot[:5])"
   ]
  },
  {
   "cell_type": "code",
   "execution_count": 25,
   "metadata": {
    "colab": {
     "base_uri": "https://localhost:8080/",
     "height": 34
    },
    "colab_type": "code",
    "id": "A6HVslLTHgOM",
    "outputId": "752962df-02d8-409b-fb8f-adb06227161d"
   },
   "outputs": [
    {
     "data": {
      "text/plain": [
       "(24951, 10)"
      ]
     },
     "execution_count": 25,
     "metadata": {},
     "output_type": "execute_result"
    }
   ],
   "source": [
    "output_one_hot.shape"
   ]
  },
  {
   "cell_type": "code",
   "execution_count": 26,
   "metadata": {
    "colab": {},
    "colab_type": "code",
    "id": "EqABUESD7xi9"
   },
   "outputs": [],
   "source": [
    "from sklearn.model_selection import train_test_split"
   ]
  },
  {
   "cell_type": "code",
   "execution_count": 27,
   "metadata": {
    "colab": {},
    "colab_type": "code",
    "id": "h8P4HTz6A4E-"
   },
   "outputs": [],
   "source": [
    "train_X, val_X, train_Y, val_Y = train_test_split(padded_doc, output_one_hot, test_size = 0.2)\n"
   ]
  },
  {
   "cell_type": "code",
   "execution_count": 28,
   "metadata": {
    "colab": {
     "base_uri": "https://localhost:8080/",
     "height": 51
    },
    "colab_type": "code",
    "id": "7E0uhC2OCtTx",
    "outputId": "6ce0e215-aa3f-43f1-ba5a-0b584b25a35c"
   },
   "outputs": [
    {
     "name": "stdout",
     "output_type": "stream",
     "text": [
      "Shape of train_X = (19960, 49) and train_Y = (19960, 10)\n",
      "Shape of val_X = (4991, 49) and val_Y = (4991, 10)\n"
     ]
    }
   ],
   "source": [
    "print(\"Shape of train_X = %s and train_Y = %s\" % (train_X.shape, train_Y.shape))\n",
    "print(\"Shape of val_X = %s and val_Y = %s\" % (val_X.shape, val_Y.shape))"
   ]
  },
  {
   "cell_type": "code",
   "execution_count": 29,
   "metadata": {
    "colab": {},
    "colab_type": "code",
    "id": "e5BU_x74DNEb"
   },
   "outputs": [],
   "source": [
    "def create_model(vocab_size, max_length):\n",
    "    model = Sequential()\n",
    "    model.add(Embedding(vocab_size, 128, input_length = max_length, trainable = False))\n",
    "#     model.add(Bidirectional(LSTM(128)))\n",
    "    model.add(Bidirectional(LSTM(128, dropout=0.25, recurrent_dropout=0.25)))\n",
    "    model.add(Dense(32, activation = \"relu\"))\n",
    "#     model.add(Dropout(0.5))\n",
    "    model.add(Dropout(0.25))\n",
    "    model.add(Dense(8, activation = \"softmax\"))\n",
    "\n",
    "    return model"
   ]
  },
  {
   "cell_type": "code",
   "execution_count": 30,
   "metadata": {
    "colab": {
     "base_uri": "https://localhost:8080/",
     "height": 306
    },
    "colab_type": "code",
    "id": "f-NvE0P7MFCe",
    "outputId": "8f07056b-579e-4c15-e1af-bdfa8f681e79"
   },
   "outputs": [
    {
     "name": "stdout",
     "output_type": "stream",
     "text": [
      "_________________________________________________________________\n",
      "Layer (type)                 Output Shape              Param #   \n",
      "=================================================================\n",
      "embedding_1 (Embedding)      (None, 49, 128)           1001088   \n",
      "_________________________________________________________________\n",
      "bidirectional_1 (Bidirection (None, 256)               263168    \n",
      "_________________________________________________________________\n",
      "dense_1 (Dense)              (None, 32)                8224      \n",
      "_________________________________________________________________\n",
      "dropout_1 (Dropout)          (None, 32)                0         \n",
      "_________________________________________________________________\n",
      "dense_2 (Dense)              (None, 10)                330       \n",
      "=================================================================\n",
      "Total params: 1,272,810\n",
      "Trainable params: 271,722\n",
      "Non-trainable params: 1,001,088\n",
      "_________________________________________________________________\n"
     ]
    }
   ],
   "source": [
    "model = create_model(vocab_size, max_length)\n",
    "model.compile(loss = \"categorical_crossentropy\", optimizer = \"adam\", metrics = [\"accuracy\"])\n",
    "model.summary()"
   ]
  },
  {
   "cell_type": "code",
   "execution_count": 31,
   "metadata": {
    "colab": {
     "base_uri": "https://localhost:8080/",
     "height": 6834
    },
    "colab_type": "code",
    "id": "_r-dxm2sMQ-d",
    "outputId": "3c37b4f8-fc4e-4c82-ab46-2aa1d8b47ffd",
    "scrolled": false
   },
   "outputs": [],
   "source": [
    "save_path = '/home/ehwa009/catkin_ws/nao_ws/src/social_mind/motion_arbiter/config/model.h5'\n",
    "\n",
    "checkpoint = ModelCheckpoint(save_path, monitor='val_loss', verbose=1, save_best_only=True, mode='min')\n",
    "early_stopping = EarlyStopping(monitor='val_loss', patience=5, verbose=1)"
   ]
  },
  {
   "cell_type": "code",
   "execution_count": 32,
   "metadata": {
    "scrolled": true
   },
   "outputs": [
    {
     "name": "stdout",
     "output_type": "stream",
     "text": [
      "Train on 19960 samples, validate on 4991 samples\n",
      "Epoch 1/100\n",
      "19960/19960 [==============================] - 35s 2ms/step - loss: 1.0266 - acc: 0.6475 - val_loss: 0.6865 - val_acc: 0.7990\n",
      "\n",
      "Epoch 00001: val_loss improved from inf to 0.68654, saving model to /home/ehwa009/catkin_ws/nao_ws/src/social_mind/motion_arbiter/config/model.h5\n",
      "Epoch 2/100\n",
      "19960/19960 [==============================] - 33s 2ms/step - loss: 0.6941 - acc: 0.7936 - val_loss: 0.5666 - val_acc: 0.8239\n",
      "\n",
      "Epoch 00002: val_loss improved from 0.68654 to 0.56661, saving model to /home/ehwa009/catkin_ws/nao_ws/src/social_mind/motion_arbiter/config/model.h5\n",
      "Epoch 3/100\n",
      "19960/19960 [==============================] - 33s 2ms/step - loss: 0.5977 - acc: 0.8138 - val_loss: 0.4916 - val_acc: 0.8317\n",
      "\n",
      "Epoch 00003: val_loss improved from 0.56661 to 0.49156, saving model to /home/ehwa009/catkin_ws/nao_ws/src/social_mind/motion_arbiter/config/model.h5\n",
      "Epoch 4/100\n",
      "19960/19960 [==============================] - 34s 2ms/step - loss: 0.5361 - acc: 0.8252 - val_loss: 0.4583 - val_acc: 0.8513\n",
      "\n",
      "Epoch 00004: val_loss improved from 0.49156 to 0.45829, saving model to /home/ehwa009/catkin_ws/nao_ws/src/social_mind/motion_arbiter/config/model.h5\n",
      "Epoch 5/100\n",
      "19960/19960 [==============================] - 34s 2ms/step - loss: 0.5031 - acc: 0.8371 - val_loss: 0.4332 - val_acc: 0.8571\n",
      "\n",
      "Epoch 00005: val_loss improved from 0.45829 to 0.43321, saving model to /home/ehwa009/catkin_ws/nao_ws/src/social_mind/motion_arbiter/config/model.h5\n",
      "Epoch 6/100\n",
      "19960/19960 [==============================] - 38s 2ms/step - loss: 0.4787 - acc: 0.8413 - val_loss: 0.4251 - val_acc: 0.8525\n",
      "\n",
      "Epoch 00006: val_loss improved from 0.43321 to 0.42507, saving model to /home/ehwa009/catkin_ws/nao_ws/src/social_mind/motion_arbiter/config/model.h5\n",
      "Epoch 7/100\n",
      "19960/19960 [==============================] - 38s 2ms/step - loss: 0.4588 - acc: 0.8465 - val_loss: 0.4001 - val_acc: 0.8622\n",
      "\n",
      "Epoch 00007: val_loss improved from 0.42507 to 0.40007, saving model to /home/ehwa009/catkin_ws/nao_ws/src/social_mind/motion_arbiter/config/model.h5\n",
      "Epoch 8/100\n",
      "19960/19960 [==============================] - 38s 2ms/step - loss: 0.4501 - acc: 0.8482 - val_loss: 0.3995 - val_acc: 0.8609\n",
      "\n",
      "Epoch 00008: val_loss improved from 0.40007 to 0.39952, saving model to /home/ehwa009/catkin_ws/nao_ws/src/social_mind/motion_arbiter/config/model.h5\n",
      "Epoch 9/100\n",
      "19960/19960 [==============================] - 38s 2ms/step - loss: 0.4288 - acc: 0.8556 - val_loss: 0.3917 - val_acc: 0.8636\n",
      "\n",
      "Epoch 00009: val_loss improved from 0.39952 to 0.39171, saving model to /home/ehwa009/catkin_ws/nao_ws/src/social_mind/motion_arbiter/config/model.h5\n",
      "Epoch 10/100\n",
      "19960/19960 [==============================] - 38s 2ms/step - loss: 0.4197 - acc: 0.8601 - val_loss: 0.3837 - val_acc: 0.8676\n",
      "\n",
      "Epoch 00010: val_loss improved from 0.39171 to 0.38365, saving model to /home/ehwa009/catkin_ws/nao_ws/src/social_mind/motion_arbiter/config/model.h5\n",
      "Epoch 11/100\n",
      "19960/19960 [==============================] - 37s 2ms/step - loss: 0.4128 - acc: 0.8582 - val_loss: 0.3789 - val_acc: 0.8668\n",
      "\n",
      "Epoch 00011: val_loss improved from 0.38365 to 0.37886, saving model to /home/ehwa009/catkin_ws/nao_ws/src/social_mind/motion_arbiter/config/model.h5\n",
      "Epoch 12/100\n",
      "19960/19960 [==============================] - 37s 2ms/step - loss: 0.4071 - acc: 0.8607 - val_loss: 0.3724 - val_acc: 0.8660\n",
      "\n",
      "Epoch 00012: val_loss improved from 0.37886 to 0.37240, saving model to /home/ehwa009/catkin_ws/nao_ws/src/social_mind/motion_arbiter/config/model.h5\n",
      "Epoch 13/100\n",
      "19960/19960 [==============================] - 38s 2ms/step - loss: 0.3963 - acc: 0.8643 - val_loss: 0.3805 - val_acc: 0.8644\n",
      "\n",
      "Epoch 00013: val_loss did not improve from 0.37240\n",
      "Epoch 14/100\n",
      "19960/19960 [==============================] - 38s 2ms/step - loss: 0.3905 - acc: 0.8629 - val_loss: 0.3683 - val_acc: 0.8676\n",
      "\n",
      "Epoch 00014: val_loss improved from 0.37240 to 0.36834, saving model to /home/ehwa009/catkin_ws/nao_ws/src/social_mind/motion_arbiter/config/model.h5\n",
      "Epoch 15/100\n",
      "19960/19960 [==============================] - 38s 2ms/step - loss: 0.3793 - acc: 0.8690 - val_loss: 0.3669 - val_acc: 0.8704\n",
      "\n",
      "Epoch 00015: val_loss improved from 0.36834 to 0.36689, saving model to /home/ehwa009/catkin_ws/nao_ws/src/social_mind/motion_arbiter/config/model.h5\n",
      "Epoch 16/100\n",
      "19960/19960 [==============================] - 38s 2ms/step - loss: 0.3734 - acc: 0.8690 - val_loss: 0.3579 - val_acc: 0.8758\n",
      "\n",
      "Epoch 00016: val_loss improved from 0.36689 to 0.35785, saving model to /home/ehwa009/catkin_ws/nao_ws/src/social_mind/motion_arbiter/config/model.h5\n",
      "Epoch 17/100\n",
      "19960/19960 [==============================] - 38s 2ms/step - loss: 0.3650 - acc: 0.8710 - val_loss: 0.3566 - val_acc: 0.8716\n",
      "\n",
      "Epoch 00017: val_loss improved from 0.35785 to 0.35656, saving model to /home/ehwa009/catkin_ws/nao_ws/src/social_mind/motion_arbiter/config/model.h5\n",
      "Epoch 18/100\n",
      "19960/19960 [==============================] - 39s 2ms/step - loss: 0.3655 - acc: 0.8720 - val_loss: 0.3598 - val_acc: 0.8730\n",
      "\n",
      "Epoch 00018: val_loss did not improve from 0.35656\n",
      "Epoch 19/100\n",
      "19960/19960 [==============================] - 38s 2ms/step - loss: 0.3583 - acc: 0.8744 - val_loss: 0.3498 - val_acc: 0.8752\n",
      "\n",
      "Epoch 00019: val_loss improved from 0.35656 to 0.34978, saving model to /home/ehwa009/catkin_ws/nao_ws/src/social_mind/motion_arbiter/config/model.h5\n",
      "Epoch 20/100\n",
      "19960/19960 [==============================] - 38s 2ms/step - loss: 0.3562 - acc: 0.8743 - val_loss: 0.3540 - val_acc: 0.8742\n",
      "\n",
      "Epoch 00020: val_loss did not improve from 0.34978\n",
      "Epoch 21/100\n",
      "19960/19960 [==============================] - 38s 2ms/step - loss: 0.3459 - acc: 0.8752 - val_loss: 0.3543 - val_acc: 0.8742\n",
      "\n",
      "Epoch 00021: val_loss did not improve from 0.34978\n",
      "Epoch 22/100\n",
      "19960/19960 [==============================] - 38s 2ms/step - loss: 0.3410 - acc: 0.8788 - val_loss: 0.3557 - val_acc: 0.8738\n",
      "\n",
      "Epoch 00022: val_loss did not improve from 0.34978\n",
      "Epoch 23/100\n",
      "19960/19960 [==============================] - 38s 2ms/step - loss: 0.3399 - acc: 0.8799 - val_loss: 0.3546 - val_acc: 0.8754\n",
      "\n",
      "Epoch 00023: val_loss did not improve from 0.34978\n",
      "Epoch 24/100\n",
      "19960/19960 [==============================] - 39s 2ms/step - loss: 0.3285 - acc: 0.8823 - val_loss: 0.3427 - val_acc: 0.8766\n",
      "\n",
      "Epoch 00024: val_loss improved from 0.34978 to 0.34268, saving model to /home/ehwa009/catkin_ws/nao_ws/src/social_mind/motion_arbiter/config/model.h5\n",
      "Epoch 25/100\n",
      "19960/19960 [==============================] - 38s 2ms/step - loss: 0.3288 - acc: 0.8818 - val_loss: 0.3494 - val_acc: 0.8806\n",
      "\n",
      "Epoch 00025: val_loss did not improve from 0.34268\n",
      "Epoch 26/100\n",
      "19960/19960 [==============================] - 38s 2ms/step - loss: 0.3240 - acc: 0.8845 - val_loss: 0.3454 - val_acc: 0.8826\n",
      "\n",
      "Epoch 00026: val_loss did not improve from 0.34268\n",
      "Epoch 27/100\n",
      "19960/19960 [==============================] - 38s 2ms/step - loss: 0.3213 - acc: 0.8854 - val_loss: 0.3479 - val_acc: 0.8822\n",
      "\n",
      "Epoch 00027: val_loss did not improve from 0.34268\n",
      "Epoch 28/100\n",
      "19960/19960 [==============================] - 40s 2ms/step - loss: 0.3163 - acc: 0.8850 - val_loss: 0.3444 - val_acc: 0.8834\n",
      "\n",
      "Epoch 00028: val_loss did not improve from 0.34268\n",
      "Epoch 29/100\n",
      "19960/19960 [==============================] - 38s 2ms/step - loss: 0.3110 - acc: 0.8877 - val_loss: 0.3510 - val_acc: 0.8838\n",
      "\n",
      "Epoch 00029: val_loss did not improve from 0.34268\n",
      "Epoch 00029: early stopping\n"
     ]
    }
   ],
   "source": [
    "hist = model.fit(train_X, train_Y, epochs = 100, batch_size = 32, validation_data = (val_X, val_Y), callbacks = [checkpoint, early_stopping])"
   ]
  },
  {
   "cell_type": "code",
   "execution_count": 33,
   "metadata": {
    "colab": {},
    "colab_type": "code",
    "id": "YjXKos8ocXvw"
   },
   "outputs": [],
   "source": [
    "model = load_model(save_path)"
   ]
  },
  {
   "cell_type": "code",
   "execution_count": 34,
   "metadata": {},
   "outputs": [
    {
     "name": "stdout",
     "output_type": "stream",
     "text": [
      "Accuracy: 87.66%\n"
     ]
    }
   ],
   "source": [
    "scores = model.evaluate(val_X, val_Y, verbose=0)\n",
    "print(\"Accuracy: %.2f%%\"%(scores[1]*100))"
   ]
  },
  {
   "cell_type": "code",
   "execution_count": 35,
   "metadata": {},
   "outputs": [],
   "source": [
    "from sklearn.metrics import classification_report,confusion_matrix"
   ]
  },
  {
   "cell_type": "code",
   "execution_count": 36,
   "metadata": {},
   "outputs": [
    {
     "name": "stdout",
     "output_type": "stream",
     "text": [
      "[3 2 5 ... 5 6 5]\n",
      "                  precision    recall  f1-score   support\n",
      "\n",
      " multiple_choice       0.68      0.65      0.67       100\n",
      "         welcome       0.83      1.00      0.91         5\n",
      "         request       0.90      0.90      0.90      2006\n",
      "        greeting       0.50      0.55      0.52       159\n",
      "confirm_question       0.00      0.00      0.00        41\n",
      "          inform       0.91      0.92      0.91      2335\n",
      "  confirm_answer       0.69      0.51      0.59       123\n",
      "          thanks       0.82      0.90      0.86       198\n",
      "         closing       0.54      0.61      0.57        23\n",
      "        Not_Sure       0.00      0.00      0.00         1\n",
      "\n",
      "     avg / total       0.87      0.88      0.87      4991\n",
      "\n"
     ]
    },
    {
     "name": "stderr",
     "output_type": "stream",
     "text": [
      "/usr/local/lib/python2.7/dist-packages/sklearn/metrics/classification.py:1113: UndefinedMetricWarning: Precision and F-score are ill-defined and being set to 0.0 in labels with no predicted samples.\n",
      "  'precision', 'predicted', average, warn_for)\n"
     ]
    }
   ],
   "source": [
    "y_pred = model.predict_classes(val_X)\n",
    "\n",
    "print(y_pred)\n",
    "\n",
    "target_names = unique_intent\n",
    "\n",
    "print(classification_report(np.argmax(val_Y,axis=1), y_pred, target_names=target_names))\n",
    "confusion_matrix = confusion_matrix(np.argmax(val_Y, axis=1), y_pred)\n",
    "# print(confusion_matrix)"
   ]
  },
  {
   "cell_type": "code",
   "execution_count": 37,
   "metadata": {
    "scrolled": false
   },
   "outputs": [
    {
     "data": {
      "image/png": "[encoded data removed]",
      "text/plain": [
       "<Figure size 1008x792 with 2 Axes>"
      ]
     },
     "metadata": {},
     "output_type": "display_data"
    }
   ],
   "source": [
    "import scikitplot as skplt\n",
    "skplt.metrics.plot_confusion_matrix(np.argmax(val_Y, axis=1), y_pred, normalize=True, \n",
    "                                    figsize=(14,11))\n",
    "plt.show()"
   ]
  },
  {
   "cell_type": "code",
   "execution_count": 38,
   "metadata": {
    "colab": {},
    "colab_type": "code",
    "id": "qSTEzrlzcuya"
   },
   "outputs": [],
   "source": [
    "def predictions(text):\n",
    "    clean = re.sub(r'[^ a-z A-Z 0-9]', \" \", text)\n",
    "    test_word = word_tokenize(clean)\n",
    "    test_word = [w.lower() for w in test_word]\n",
    "    test_ls = word_tokenizer.texts_to_sequences(test_word)\n",
    "    print(test_word)\n",
    "    #Check for unknown words\n",
    "    if [] in test_ls:\n",
    "        test_ls = list(filter(None, test_ls))\n",
    "\n",
    "    test_ls = np.array(test_ls).reshape(1, len(test_ls))\n",
    "\n",
    "    x = padding_doc(test_ls, max_length)\n",
    "    print(x.shape)\n",
    "\n",
    "#     pred = model.predict_proba(x)\n",
    "    pred = model.predict_classes(x)\n",
    "\n",
    "\n",
    "    return pred"
   ]
  },
  {
   "cell_type": "code",
   "execution_count": 39,
   "metadata": {
    "colab": {},
    "colab_type": "code",
    "id": "P1ddofshmdzK"
   },
   "outputs": [],
   "source": [
    "def get_final_output(pred, classes):\n",
    "    predictions = pred[0]\n",
    "    classes = np.array(classes) \n",
    "    ids = np.argsort(-predictions)\n",
    "    classes = classes[ids]\n",
    "    predictions = -np.sort(-predictions)\n",
    "    predict = list(predictions).index(max(predictions))\n",
    "    print(predict)\n",
    "    print(classes[predict])\n",
    "    \n",
    "\n",
    "#     for i in range(pred.shape[1]):\n",
    "#         print(\"%s has confidence = %s\" % (classes[i], (predictions[i])))\n",
    "\n"
   ]
  },
  {
   "cell_type": "code",
   "execution_count": 40,
   "metadata": {
    "colab": {
     "base_uri": "https://localhost:8080/",
     "height": 391
    },
    "colab_type": "code",
    "id": "23VpGuihMdEU",
    "outputId": "cd36c932-0fb0-4166-92ae-546a7676e645"
   },
   "outputs": [
    {
     "name": "stdout",
     "output_type": "stream",
     "text": [
      "['can', 'you', 'get', 'your', 'name']\n",
      "(1, 49)\n",
      "[2]\n",
      "[u'multiple_choice', u'welcome', u'request', u'greeting', u'confirm_question', u'inform', u'confirm_answer', u'thanks', u'closing', u'Not_Sure']\n"
     ]
    },
    {
     "data": {
      "text/plain": [
       "'request'"
      ]
     },
     "execution_count": 40,
     "metadata": {},
     "output_type": "execute_result"
    }
   ],
   "source": [
    "text = \"can you get your name?\"\n",
    "pred = predictions(text)\n",
    "print(pred)\n",
    "# get_final_output(pred, unique_intent)\n",
    "print(unique_intent)\n",
    "str(unique_intent[pred[0]])"
   ]
  },
  {
   "cell_type": "code",
   "execution_count": null,
   "metadata": {
    "colab": {},
    "colab_type": "code",
    "id": "bKUBDT36IHKO"
   },
   "outputs": [],
   "source": []
  }
 ],
 "metadata": {
  "accelerator": "TPU",
  "colab": {
   "collapsed_sections": [],
   "include_colab_link": true,
   "name": "Intent_classification_final.ipynb",
   "provenance": [],
   "version": "0.3.2"
  },
  "kernelspec": {
   "display_name": "Python 3",
   "language": "python",
   "name": "python3"
  },
  "language_info": {
   "codemirror_mode": {
    "name": "ipython",
    "version": 2
   },
   "file_extension": ".py",
   "mimetype": "text/x-python",
   "name": "python",
   "nbconvert_exporter": "python",
   "pygments_lexer": "ipython2",
   "version": "2.7.12"
  }
 },
 "nbformat": 4,
 "nbformat_minor": 1
}
