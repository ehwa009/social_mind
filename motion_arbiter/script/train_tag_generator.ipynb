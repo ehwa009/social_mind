{
 "cells": [
  {
   "cell_type": "markdown",
   "metadata": {
    "colab_type": "text",
    "id": "view-in-github"
   },
   "source": [
    "<a href=\"https://colab.research.google.com/github/Dark-Sied/Intent_Classification/blob/master/Intent_classification_final.ipynb\" target=\"_parent\"><img src=\"https://colab.research.google.com/assets/colab-badge.svg\" alt=\"Open In Colab\"/></a>"
   ]
  },
  {
   "cell_type": "code",
   "execution_count": 1,
   "metadata": {
    "colab": {
     "base_uri": "https://localhost:8080/",
     "height": 34
    },
    "colab_type": "code",
    "id": "a_WypuUXi92e",
    "outputId": "133d026e-4236-4ff6-f21d-739bfb9640db"
   },
   "outputs": [
    {
     "name": "stderr",
     "output_type": "stream",
     "text": [
      "Using TensorFlow backend.\n"
     ]
    }
   ],
   "source": [
    "import warnings\n",
    "warnings.filterwarnings('ignore', category=RuntimeWarning)\n",
    "\n",
    "from nltk.corpus import stopwords\n",
    "from nltk.tokenize import word_tokenize\n",
    "from nltk.stem.lancaster import LancasterStemmer\n",
    "\n",
    "from keras.preprocessing.text import Tokenizer\n",
    "from keras.preprocessing.sequence import pad_sequences\n",
    "from keras.utils import to_categorical\n",
    "from keras.models import Sequential, load_model\n",
    "from keras.layers import Dense, LSTM, Bidirectional, Embedding, Dropout\n",
    "from keras.callbacks import ModelCheckpoint\n",
    "from sklearn.model_selection import train_test_split\n",
    "from keras.callbacks import EarlyStopping\n",
    "\n",
    "from sklearn.metrics import classification_report, confusion_matrix\n",
    "\n",
    "import os\n",
    "import numpy as np\n",
    "import pandas as pd\n",
    "import nltk\n",
    "import re\n",
    "from sklearn.preprocessing import OneHotEncoder\n",
    "import matplotlib.pyplot as plt\n",
    "import matplotlib\n",
    "import csv"
   ]
  },
  {
   "cell_type": "code",
   "execution_count": 2,
   "metadata": {
    "colab": {},
    "colab_type": "code",
    "id": "LE6wywJrN2ih"
   },
   "outputs": [],
   "source": [
    "def load_dataset(filename):\n",
    "    df = pd.read_csv(filename, encoding = \"latin1\", names = [\"Sentence\", \"Intent\"])\n",
    "    df.head()\n",
    "    intent = df[\"Intent\"]\n",
    "    unique_intent = list(set(intent))\n",
    "    sentences = list(df[\"Sentence\"])\n",
    "    return (intent, unique_intent, sentences)"
   ]
  },
  {
   "cell_type": "code",
   "execution_count": 3,
   "metadata": {
    "colab": {
     "base_uri": "https://localhost:8080/",
     "height": 119
    },
    "colab_type": "code",
    "id": "tF0FQA7gjOCX",
    "outputId": "c609b42a-05da-49f5-8d11-bd670210f635"
   },
   "outputs": [
    {
     "name": "stdout",
     "output_type": "stream",
     "text": [
      "[u'multiple_choice', u'welcome', u'request', u'greeting', u'inform', u'confirm_answer', u'thanks', u'closing']\n"
     ]
    }
   ],
   "source": [
    "intent, unique_intent, sentences = load_dataset(\"/home/ehwa009/catkin_ws/nao_ws/src/social_mind/motion_arbiter/data/intent_data.csv\")\n",
    "# intent, unique_intent, sentences = load_dataset(\"Dataset.csv\")\n",
    "print(unique_intent)"
   ]
  },
  {
   "cell_type": "code",
   "execution_count": 4,
   "metadata": {
    "colab": {
     "base_uri": "https://localhost:8080/",
     "height": 34
    },
    "colab_type": "code",
    "id": "O8LLUZlokg0S",
    "outputId": "c15c21dc-2ef2-43b7-b4af-e7ee9e014091"
   },
   "outputs": [
    {
     "name": "stdout",
     "output_type": "stream",
     "text": [
      "[u'Hello  i was wondering if you can tell me where a good restaurant is to book ', u'Sure  How many people are in your party ', u'Success  Your reservation has been confirmed  Please enjoy your meal ', u'Great  What city are you dining in ', u'What is the price range of The Rock Wood Fired Pizza ']\n"
     ]
    }
   ],
   "source": [
    "print(sentences[:5])"
   ]
  },
  {
   "cell_type": "code",
   "execution_count": 5,
   "metadata": {
    "colab": {
     "base_uri": "https://localhost:8080/",
     "height": 102
    },
    "colab_type": "code",
    "id": "MhrziINPGHbW",
    "outputId": "0861af1b-4b82-4c92-b8f4-b6b57bb3e380"
   },
   "outputs": [
    {
     "name": "stdout",
     "output_type": "stream",
     "text": [
      "[nltk_data] Downloading package stopwords to\n",
      "[nltk_data]     /home/ehwa009/nltk_data...\n",
      "[nltk_data]   Package stopwords is already up-to-date!\n",
      "[nltk_data] Downloading package punkt to /home/ehwa009/nltk_data...\n",
      "[nltk_data]   Package punkt is already up-to-date!\n"
     ]
    },
    {
     "data": {
      "text/plain": [
       "True"
      ]
     },
     "execution_count": 5,
     "metadata": {},
     "output_type": "execute_result"
    }
   ],
   "source": [
    "nltk.download(\"stopwords\")\n",
    "nltk.download(\"punkt\")"
   ]
  },
  {
   "cell_type": "code",
   "execution_count": 6,
   "metadata": {
    "colab": {},
    "colab_type": "code",
    "id": "OmNLu2YSXePb"
   },
   "outputs": [],
   "source": [
    "#define stemmer\n",
    "stemmer = LancasterStemmer()"
   ]
  },
  {
   "cell_type": "code",
   "execution_count": 7,
   "metadata": {
    "colab": {},
    "colab_type": "code",
    "id": "j-7q3iG5PKYI"
   },
   "outputs": [],
   "source": [
    "def cleaning(sentences):\n",
    "    words = []\n",
    "    for s in sentences:\n",
    "        # clean = re.sub(r'[^ a-z A-Z 0-9]', \" \", s)\n",
    "        # w = word_tokenize(clean)\n",
    "        w = word_tokenize(str(s))\n",
    "        #stemming\n",
    "        words.append([i.lower() for i in w])\n",
    "    return words "
   ]
  },
  {
   "cell_type": "code",
   "execution_count": 8,
   "metadata": {
    "colab": {
     "base_uri": "https://localhost:8080/",
     "height": 51
    },
    "colab_type": "code",
    "id": "p1j2GJgDG6qj",
    "outputId": "c7232a8e-6833-4a1d-e71a-4bc7014084a9"
   },
   "outputs": [
    {
     "name": "stdout",
     "output_type": "stream",
     "text": [
      "19571\n",
      "[['hello', 'i', 'was', 'wondering', 'if', 'you', 'can', 'tell', 'me', 'where', 'a', 'good', 'restaurant', 'is', 'to', 'book'], ['sure', 'how', 'many', 'people', 'are', 'in', 'your', 'party'], ['success', 'your', 'reservation', 'has', 'been', 'confirmed', 'please', 'enjoy', 'your', 'meal'], ['great', 'what', 'city', 'are', 'you', 'dining', 'in'], ['what', 'is', 'the', 'price', 'range', 'of', 'the', 'rock', 'wood', 'fired', 'pizza']]\n"
     ]
    }
   ],
   "source": [
    "cleaned_words = cleaning(sentences)\n",
    "print(len(cleaned_words))\n",
    "print(cleaned_words[:5])  "
   ]
  },
  {
   "cell_type": "code",
   "execution_count": 9,
   "metadata": {
    "colab": {},
    "colab_type": "code",
    "id": "SJCQ_YhBJW7t"
   },
   "outputs": [],
   "source": [
    "def create_tokenizer(words, filters = '!\"#$%&()*+,-./:;<=>?@[\\]^_`{|}~'):\n",
    "    token = Tokenizer(filters = filters)\n",
    "    token.fit_on_texts(words)\n",
    "    return token"
   ]
  },
  {
   "cell_type": "code",
   "execution_count": 10,
   "metadata": {
    "colab": {},
    "colab_type": "code",
    "id": "QJhdIJC5Q3Q6"
   },
   "outputs": [],
   "source": [
    "def check_max_length(words):\n",
    "    return(len(max(words, key = len)))"
   ]
  },
  {
   "cell_type": "code",
   "execution_count": 11,
   "metadata": {
    "colab": {
     "base_uri": "https://localhost:8080/",
     "height": 34
    },
    "colab_type": "code",
    "id": "JWjxPGsZZJNX",
    "outputId": "b02c8f6b-d0df-4e90-fa3a-2ff730c88300"
   },
   "outputs": [
    {
     "name": "stdout",
     "output_type": "stream",
     "text": [
      "Vocab Size = 5795 and Maximum length = 25\n"
     ]
    }
   ],
   "source": [
    "word_tokenizer = create_tokenizer(cleaned_words)\n",
    "vocab_size = len(word_tokenizer.word_index) + 1\n",
    "max_length = check_max_length(cleaned_words)\n",
    "\n",
    "print(\"Vocab Size = %d and Maximum length = %d\" % (vocab_size, max_length))"
   ]
  },
  {
   "cell_type": "code",
   "execution_count": 12,
   "metadata": {
    "colab": {},
    "colab_type": "code",
    "id": "D0TXu2xsR8jq"
   },
   "outputs": [],
   "source": [
    "def encoding_doc(token, words):\n",
    "    return(token.texts_to_sequences(words))"
   ]
  },
  {
   "cell_type": "code",
   "execution_count": 13,
   "metadata": {
    "colab": {},
    "colab_type": "code",
    "id": "dE92Hk1Va--H"
   },
   "outputs": [
    {
     "name": "stdout",
     "output_type": "stream",
     "text": [
      "[[106, 2, 107, 369, 127, 1, 21, 112, 29, 139, 5, 47, 18, 15, 4, 19], [108, 23, 27, 22, 24, 7, 8, 30], [152, 8, 14, 59, 81, 69, 16, 44, 8, 50], [31, 11, 52, 24, 1, 168, 7], [11, 15, 12, 211, 199, 34, 12, 235, 1364, 2087, 205]]\n"
     ]
    }
   ],
   "source": [
    "encoded_doc = encoding_doc(word_tokenizer, cleaned_words)\n",
    "print(encoded_doc[:5])"
   ]
  },
  {
   "cell_type": "code",
   "execution_count": 14,
   "metadata": {
    "colab": {},
    "colab_type": "code",
    "id": "fyOzLEboc4LZ"
   },
   "outputs": [],
   "source": [
    "def padding_doc(encoded_doc, max_length):\n",
    "    return(pad_sequences(encoded_doc, maxlen = max_length, padding = \"post\"))"
   ]
  },
  {
   "cell_type": "code",
   "execution_count": 15,
   "metadata": {
    "colab": {},
    "colab_type": "code",
    "id": "WdejoJrlc-tc"
   },
   "outputs": [],
   "source": [
    "padded_doc = padding_doc(encoded_doc, max_length)"
   ]
  },
  {
   "cell_type": "code",
   "execution_count": 16,
   "metadata": {
    "colab": {
     "base_uri": "https://localhost:8080/",
     "height": 272
    },
    "colab_type": "code",
    "id": "gDgTCS2KdI2p",
    "outputId": "ac5332cd-0a0f-4311-8db4-22df92728d90"
   },
   "outputs": [
    {
     "data": {
      "text/plain": [
       "array([[ 106,    2,  107,  369,  127,    1,   21,  112,   29,  139,    5,\n",
       "          47,   18,   15,    4,   19,    0,    0,    0,    0,    0,    0,\n",
       "           0,    0,    0],\n",
       "       [ 108,   23,   27,   22,   24,    7,    8,   30,    0,    0,    0,\n",
       "           0,    0,    0,    0,    0,    0,    0,    0,    0,    0,    0,\n",
       "           0,    0,    0],\n",
       "       [ 152,    8,   14,   59,   81,   69,   16,   44,    8,   50,    0,\n",
       "           0,    0,    0,    0,    0,    0,    0,    0,    0,    0,    0,\n",
       "           0,    0,    0],\n",
       "       [  31,   11,   52,   24,    1,  168,    7,    0,    0,    0,    0,\n",
       "           0,    0,    0,    0,    0,    0,    0,    0,    0,    0,    0,\n",
       "           0,    0,    0],\n",
       "       [  11,   15,   12,  211,  199,   34,   12,  235, 1364, 2087,  205,\n",
       "           0,    0,    0,    0,    0,    0,    0,    0,    0,    0,    0,\n",
       "           0,    0,    0]], dtype=int32)"
      ]
     },
     "execution_count": 16,
     "metadata": {},
     "output_type": "execute_result"
    }
   ],
   "source": [
    "padded_doc[:5]"
   ]
  },
  {
   "cell_type": "code",
   "execution_count": 17,
   "metadata": {
    "colab": {
     "base_uri": "https://localhost:8080/",
     "height": 34
    },
    "colab_type": "code",
    "id": "3eaSIDi0dNf1",
    "outputId": "4ab6b6dd-ffa4-4061-9e9d-7a01decfa837"
   },
   "outputs": [
    {
     "name": "stdout",
     "output_type": "stream",
     "text": [
      "('Shape of padded docs = ', (19571, 25))\n"
     ]
    }
   ],
   "source": [
    "print(\"Shape of padded docs = \",padded_doc.shape)"
   ]
  },
  {
   "cell_type": "code",
   "execution_count": 18,
   "metadata": {
    "colab": {},
    "colab_type": "code",
    "id": "X0rXzenSpgFR"
   },
   "outputs": [],
   "source": [
    "#tokenizer with filter changed\n",
    "output_tokenizer = create_tokenizer(unique_intent, filters = '!\"#$%&()*+,-/:;<=>?@[\\]^`{|}~')\n"
   ]
  },
  {
   "cell_type": "code",
   "execution_count": 19,
   "metadata": {
    "colab": {
     "base_uri": "https://localhost:8080/",
     "height": 374
    },
    "colab_type": "code",
    "id": "yNHQtkszskxr",
    "outputId": "f5babc01-89e3-4392-e8e6-c9f257de3d07"
   },
   "outputs": [
    {
     "data": {
      "text/plain": [
       "{u'closing': 8,\n",
       " u'confirm_answer': 6,\n",
       " u'greeting': 4,\n",
       " u'inform': 5,\n",
       " u'multiple_choice': 1,\n",
       " u'request': 3,\n",
       " u'thanks': 7,\n",
       " u'welcome': 2}"
      ]
     },
     "execution_count": 19,
     "metadata": {},
     "output_type": "execute_result"
    }
   ],
   "source": [
    "output_tokenizer.word_index"
   ]
  },
  {
   "cell_type": "code",
   "execution_count": 20,
   "metadata": {
    "colab": {},
    "colab_type": "code",
    "id": "7OOx9qdBto1-"
   },
   "outputs": [
    {
     "name": "stdout",
     "output_type": "stream",
     "text": [
      "[[3], [3], [5], [3], [3]]\n"
     ]
    }
   ],
   "source": [
    "encoded_output = encoding_doc(output_tokenizer, intent)\n",
    "print(encoded_output[:5])"
   ]
  },
  {
   "cell_type": "code",
   "execution_count": 21,
   "metadata": {
    "colab": {},
    "colab_type": "code",
    "id": "0_5Lv5PiyG-z"
   },
   "outputs": [],
   "source": [
    "encoded_output = np.array(encoded_output).reshape(len(encoded_output), 1)"
   ]
  },
  {
   "cell_type": "code",
   "execution_count": 22,
   "metadata": {
    "colab": {
     "base_uri": "https://localhost:8080/",
     "height": 34
    },
    "colab_type": "code",
    "id": "dpM86WrVQlx5",
    "outputId": "71ff52a6-b3d0-4b5c-850d-5dc0a56c8aa9"
   },
   "outputs": [
    {
     "data": {
      "text/plain": [
       "(19571, 1)"
      ]
     },
     "execution_count": 22,
     "metadata": {},
     "output_type": "execute_result"
    }
   ],
   "source": [
    "encoded_output.shape"
   ]
  },
  {
   "cell_type": "code",
   "execution_count": 23,
   "metadata": {
    "colab": {},
    "colab_type": "code",
    "id": "rD3QN-RPzfet"
   },
   "outputs": [],
   "source": [
    "def one_hot(encode):\n",
    "    o = OneHotEncoder(sparse = False)\n",
    "    return(o.fit_transform(encode))"
   ]
  },
  {
   "cell_type": "code",
   "execution_count": 24,
   "metadata": {
    "colab": {},
    "colab_type": "code",
    "id": "Z6wP_Xed7RNR"
   },
   "outputs": [
    {
     "name": "stdout",
     "output_type": "stream",
     "text": [
      "[[0. 0. 1. 0. 0. 0. 0. 0.]\n",
      " [0. 0. 1. 0. 0. 0. 0. 0.]\n",
      " [0. 0. 0. 0. 1. 0. 0. 0.]\n",
      " [0. 0. 1. 0. 0. 0. 0. 0.]\n",
      " [0. 0. 1. 0. 0. 0. 0. 0.]]\n"
     ]
    }
   ],
   "source": [
    "output_one_hot = one_hot(encoded_output)\n",
    "print(output_one_hot[:5])"
   ]
  },
  {
   "cell_type": "code",
   "execution_count": 25,
   "metadata": {
    "colab": {
     "base_uri": "https://localhost:8080/",
     "height": 34
    },
    "colab_type": "code",
    "id": "A6HVslLTHgOM",
    "outputId": "752962df-02d8-409b-fb8f-adb06227161d"
   },
   "outputs": [
    {
     "data": {
      "text/plain": [
       "(19571, 8)"
      ]
     },
     "execution_count": 25,
     "metadata": {},
     "output_type": "execute_result"
    }
   ],
   "source": [
    "output_one_hot.shape"
   ]
  },
  {
   "cell_type": "code",
   "execution_count": 26,
   "metadata": {
    "colab": {},
    "colab_type": "code",
    "id": "EqABUESD7xi9"
   },
   "outputs": [],
   "source": [
    "from sklearn.model_selection import train_test_split"
   ]
  },
  {
   "cell_type": "code",
   "execution_count": 27,
   "metadata": {
    "colab": {},
    "colab_type": "code",
    "id": "h8P4HTz6A4E-"
   },
   "outputs": [],
   "source": [
    "train_X, val_X, train_Y, val_Y = train_test_split(padded_doc, output_one_hot, test_size = 0.2)\n"
   ]
  },
  {
   "cell_type": "code",
   "execution_count": 28,
   "metadata": {
    "colab": {
     "base_uri": "https://localhost:8080/",
     "height": 51
    },
    "colab_type": "code",
    "id": "7E0uhC2OCtTx",
    "outputId": "6ce0e215-aa3f-43f1-ba5a-0b584b25a35c"
   },
   "outputs": [
    {
     "name": "stdout",
     "output_type": "stream",
     "text": [
      "Shape of train_X = (15656, 25) and train_Y = (15656, 8)\n",
      "Shape of val_X = (3915, 25) and val_Y = (3915, 8)\n"
     ]
    }
   ],
   "source": [
    "print(\"Shape of train_X = %s and train_Y = %s\" % (train_X.shape, train_Y.shape))\n",
    "print(\"Shape of val_X = %s and val_Y = %s\" % (val_X.shape, val_Y.shape))"
   ]
  },
  {
   "cell_type": "code",
   "execution_count": 29,
   "metadata": {
    "colab": {},
    "colab_type": "code",
    "id": "e5BU_x74DNEb"
   },
   "outputs": [],
   "source": [
    "def create_model(vocab_size, max_length):\n",
    "    model = Sequential()\n",
    "    model.add(Embedding(vocab_size, 128, input_length = max_length, trainable = False))\n",
    "    model.add(Bidirectional(LSTM(128, dropout=0.25, recurrent_dropout=0.25)))\n",
    "#     model.add(LSTM(128, dropout=0.25, recurrent_dropout=0.25))\n",
    "    model.add(Dense(32, activation = \"relu\"))\n",
    "#     model.add(Dropout(0.5))\n",
    "    model.add(Dropout(0.25))\n",
    "    model.add(Dense(8, activation = \"softmax\"))\n",
    "\n",
    "    return model"
   ]
  },
  {
   "cell_type": "code",
   "execution_count": 30,
   "metadata": {
    "colab": {
     "base_uri": "https://localhost:8080/",
     "height": 306
    },
    "colab_type": "code",
    "id": "f-NvE0P7MFCe",
    "outputId": "8f07056b-579e-4c15-e1af-bdfa8f681e79"
   },
   "outputs": [
    {
     "name": "stdout",
     "output_type": "stream",
     "text": [
      "_________________________________________________________________\n",
      "Layer (type)                 Output Shape              Param #   \n",
      "=================================================================\n",
      "embedding_1 (Embedding)      (None, 25, 128)           741760    \n",
      "_________________________________________________________________\n",
      "bidirectional_1 (Bidirection (None, 256)               263168    \n",
      "_________________________________________________________________\n",
      "dense_1 (Dense)              (None, 32)                8224      \n",
      "_________________________________________________________________\n",
      "dropout_1 (Dropout)          (None, 32)                0         \n",
      "_________________________________________________________________\n",
      "dense_2 (Dense)              (None, 8)                 264       \n",
      "=================================================================\n",
      "Total params: 1,013,416\n",
      "Trainable params: 271,656\n",
      "Non-trainable params: 741,760\n",
      "_________________________________________________________________\n"
     ]
    }
   ],
   "source": [
    "model = create_model(vocab_size, max_length)\n",
    "model.compile(loss = \"categorical_crossentropy\", optimizer = \"adam\", metrics = [\"accuracy\"])\n",
    "model.summary()"
   ]
  },
  {
   "cell_type": "code",
   "execution_count": 31,
   "metadata": {
    "colab": {
     "base_uri": "https://localhost:8080/",
     "height": 6834
    },
    "colab_type": "code",
    "id": "_r-dxm2sMQ-d",
    "outputId": "3c37b4f8-fc4e-4c82-ab46-2aa1d8b47ffd",
    "scrolled": false
   },
   "outputs": [],
   "source": [
    "save_path = '/home/ehwa009/catkin_ws/nao_ws/src/social_mind/motion_arbiter/config/model.h5'\n",
    "\n",
    "checkpoint = ModelCheckpoint(save_path, monitor='val_loss', verbose=1, save_best_only=True, mode='min')\n",
    "early_stopping = EarlyStopping(monitor='val_loss', patience=5, verbose=1)"
   ]
  },
  {
   "cell_type": "code",
   "execution_count": 32,
   "metadata": {
    "scrolled": true
   },
   "outputs": [
    {
     "name": "stdout",
     "output_type": "stream",
     "text": [
      "Train on 15656 samples, validate on 3915 samples\n",
      "Epoch 1/100\n",
      "15656/15656 [==============================] - 18s 1ms/step - loss: 0.8992 - acc: 0.7088 - val_loss: 0.6207 - val_acc: 0.8143\n",
      "\n",
      "Epoch 00001: val_loss improved from inf to 0.62073, saving model to /home/ehwa009/catkin_ws/nao_ws/src/social_mind/motion_arbiter/config/model.h5\n",
      "Epoch 2/100\n",
      "15656/15656 [==============================] - 16s 1ms/step - loss: 0.6371 - acc: 0.8134 - val_loss: 0.5139 - val_acc: 0.8337\n",
      "\n",
      "Epoch 00002: val_loss improved from 0.62073 to 0.51391, saving model to /home/ehwa009/catkin_ws/nao_ws/src/social_mind/motion_arbiter/config/model.h5\n",
      "Epoch 3/100\n",
      "15656/15656 [==============================] - 15s 978us/step - loss: 0.5334 - acc: 0.8325 - val_loss: 0.4491 - val_acc: 0.8503\n",
      "\n",
      "Epoch 00003: val_loss improved from 0.51391 to 0.44911, saving model to /home/ehwa009/catkin_ws/nao_ws/src/social_mind/motion_arbiter/config/model.h5\n",
      "Epoch 4/100\n",
      "15656/15656 [==============================] - 16s 1ms/step - loss: 0.4970 - acc: 0.8413 - val_loss: 0.4101 - val_acc: 0.8605\n",
      "\n",
      "Epoch 00004: val_loss improved from 0.44911 to 0.41005, saving model to /home/ehwa009/catkin_ws/nao_ws/src/social_mind/motion_arbiter/config/model.h5\n",
      "Epoch 5/100\n",
      "15656/15656 [==============================] - 15s 971us/step - loss: 0.4615 - acc: 0.8480 - val_loss: 0.3944 - val_acc: 0.8605\n",
      "\n",
      "Epoch 00005: val_loss improved from 0.41005 to 0.39440, saving model to /home/ehwa009/catkin_ws/nao_ws/src/social_mind/motion_arbiter/config/model.h5\n",
      "Epoch 6/100\n",
      "15656/15656 [==============================] - 16s 992us/step - loss: 0.4325 - acc: 0.8565 - val_loss: 0.3601 - val_acc: 0.8700\n",
      "\n",
      "Epoch 00006: val_loss improved from 0.39440 to 0.36014, saving model to /home/ehwa009/catkin_ws/nao_ws/src/social_mind/motion_arbiter/config/model.h5\n",
      "Epoch 7/100\n",
      "15656/15656 [==============================] - 16s 1ms/step - loss: 0.4092 - acc: 0.8625 - val_loss: 0.3532 - val_acc: 0.8723\n",
      "\n",
      "Epoch 00007: val_loss improved from 0.36014 to 0.35318, saving model to /home/ehwa009/catkin_ws/nao_ws/src/social_mind/motion_arbiter/config/model.h5\n",
      "Epoch 8/100\n",
      "15656/15656 [==============================] - 17s 1ms/step - loss: 0.3922 - acc: 0.8655 - val_loss: 0.3479 - val_acc: 0.8702\n",
      "\n",
      "Epoch 00008: val_loss improved from 0.35318 to 0.34788, saving model to /home/ehwa009/catkin_ws/nao_ws/src/social_mind/motion_arbiter/config/model.h5\n",
      "Epoch 9/100\n",
      "15656/15656 [==============================] - 16s 1ms/step - loss: 0.3803 - acc: 0.8669 - val_loss: 0.3361 - val_acc: 0.8751\n",
      "\n",
      "Epoch 00009: val_loss improved from 0.34788 to 0.33612, saving model to /home/ehwa009/catkin_ws/nao_ws/src/social_mind/motion_arbiter/config/model.h5\n",
      "Epoch 10/100\n",
      "15656/15656 [==============================] - 18s 1ms/step - loss: 0.3692 - acc: 0.8696 - val_loss: 0.3310 - val_acc: 0.8787\n",
      "\n",
      "Epoch 00010: val_loss improved from 0.33612 to 0.33103, saving model to /home/ehwa009/catkin_ws/nao_ws/src/social_mind/motion_arbiter/config/model.h5\n",
      "Epoch 11/100\n",
      "15656/15656 [==============================] - 16s 1ms/step - loss: 0.3626 - acc: 0.8692 - val_loss: 0.3216 - val_acc: 0.8799\n",
      "\n",
      "Epoch 00011: val_loss improved from 0.33103 to 0.32163, saving model to /home/ehwa009/catkin_ws/nao_ws/src/social_mind/motion_arbiter/config/model.h5\n",
      "Epoch 12/100\n",
      "15656/15656 [==============================] - 13s 838us/step - loss: 0.3566 - acc: 0.8744 - val_loss: 0.3201 - val_acc: 0.8838\n",
      "\n",
      "Epoch 00012: val_loss improved from 0.32163 to 0.32014, saving model to /home/ehwa009/catkin_ws/nao_ws/src/social_mind/motion_arbiter/config/model.h5\n",
      "Epoch 13/100\n",
      "15656/15656 [==============================] - 13s 833us/step - loss: 0.3490 - acc: 0.8726 - val_loss: 0.3158 - val_acc: 0.8812\n",
      "\n",
      "Epoch 00013: val_loss improved from 0.32014 to 0.31577, saving model to /home/ehwa009/catkin_ws/nao_ws/src/social_mind/motion_arbiter/config/model.h5\n",
      "Epoch 14/100\n",
      "15656/15656 [==============================] - 13s 834us/step - loss: 0.3430 - acc: 0.8737 - val_loss: 0.3127 - val_acc: 0.8797\n",
      "\n",
      "Epoch 00014: val_loss improved from 0.31577 to 0.31275, saving model to /home/ehwa009/catkin_ws/nao_ws/src/social_mind/motion_arbiter/config/model.h5\n",
      "Epoch 15/100\n",
      "15656/15656 [==============================] - 13s 846us/step - loss: 0.3320 - acc: 0.8781 - val_loss: 0.3052 - val_acc: 0.8851\n",
      "\n",
      "Epoch 00015: val_loss improved from 0.31275 to 0.30517, saving model to /home/ehwa009/catkin_ws/nao_ws/src/social_mind/motion_arbiter/config/model.h5\n",
      "Epoch 16/100\n",
      "15656/15656 [==============================] - 13s 827us/step - loss: 0.3262 - acc: 0.8819 - val_loss: 0.3100 - val_acc: 0.8817\n",
      "\n",
      "Epoch 00016: val_loss did not improve from 0.30517\n",
      "Epoch 17/100\n",
      "15656/15656 [==============================] - 13s 844us/step - loss: 0.3224 - acc: 0.8786 - val_loss: 0.3003 - val_acc: 0.8856\n",
      "\n",
      "Epoch 00017: val_loss improved from 0.30517 to 0.30028, saving model to /home/ehwa009/catkin_ws/nao_ws/src/social_mind/motion_arbiter/config/model.h5\n",
      "Epoch 18/100\n",
      "15656/15656 [==============================] - 13s 845us/step - loss: 0.3175 - acc: 0.8820 - val_loss: 0.2959 - val_acc: 0.8894\n",
      "\n",
      "Epoch 00018: val_loss improved from 0.30028 to 0.29588, saving model to /home/ehwa009/catkin_ws/nao_ws/src/social_mind/motion_arbiter/config/model.h5\n",
      "Epoch 19/100\n",
      "15656/15656 [==============================] - 13s 861us/step - loss: 0.3164 - acc: 0.8821 - val_loss: 0.2923 - val_acc: 0.8912\n",
      "\n",
      "Epoch 00019: val_loss improved from 0.29588 to 0.29228, saving model to /home/ehwa009/catkin_ws/nao_ws/src/social_mind/motion_arbiter/config/model.h5\n",
      "Epoch 20/100\n",
      "15656/15656 [==============================] - 14s 864us/step - loss: 0.3109 - acc: 0.8838 - val_loss: 0.2884 - val_acc: 0.8940\n",
      "\n",
      "Epoch 00020: val_loss improved from 0.29228 to 0.28840, saving model to /home/ehwa009/catkin_ws/nao_ws/src/social_mind/motion_arbiter/config/model.h5\n",
      "Epoch 21/100\n",
      "15656/15656 [==============================] - 13s 829us/step - loss: 0.3106 - acc: 0.8830 - val_loss: 0.2883 - val_acc: 0.8909\n",
      "\n",
      "Epoch 00021: val_loss improved from 0.28840 to 0.28833, saving model to /home/ehwa009/catkin_ws/nao_ws/src/social_mind/motion_arbiter/config/model.h5\n",
      "Epoch 22/100\n",
      "15656/15656 [==============================] - 13s 830us/step - loss: 0.3011 - acc: 0.8862 - val_loss: 0.2898 - val_acc: 0.8930\n",
      "\n",
      "Epoch 00022: val_loss did not improve from 0.28833\n",
      "Epoch 23/100\n",
      "15656/15656 [==============================] - 13s 826us/step - loss: 0.2946 - acc: 0.8868 - val_loss: 0.3005 - val_acc: 0.8879\n",
      "\n",
      "Epoch 00023: val_loss did not improve from 0.28833\n",
      "Epoch 24/100\n",
      "15656/15656 [==============================] - 13s 862us/step - loss: 0.2959 - acc: 0.8884 - val_loss: 0.2833 - val_acc: 0.8945\n",
      "\n",
      "Epoch 00024: val_loss improved from 0.28833 to 0.28329, saving model to /home/ehwa009/catkin_ws/nao_ws/src/social_mind/motion_arbiter/config/model.h5\n",
      "Epoch 25/100\n",
      "15656/15656 [==============================] - 13s 850us/step - loss: 0.2875 - acc: 0.8922 - val_loss: 0.2858 - val_acc: 0.8950\n",
      "\n",
      "Epoch 00025: val_loss did not improve from 0.28329\n",
      "Epoch 26/100\n",
      "15656/15656 [==============================] - 14s 863us/step - loss: 0.2822 - acc: 0.8926 - val_loss: 0.2966 - val_acc: 0.8907\n",
      "\n",
      "Epoch 00026: val_loss did not improve from 0.28329\n",
      "Epoch 27/100\n",
      "15656/15656 [==============================] - 13s 839us/step - loss: 0.2816 - acc: 0.8922 - val_loss: 0.2843 - val_acc: 0.8912\n",
      "\n",
      "Epoch 00027: val_loss did not improve from 0.28329\n",
      "Epoch 28/100\n",
      "15656/15656 [==============================] - 13s 827us/step - loss: 0.2768 - acc: 0.8931 - val_loss: 0.2856 - val_acc: 0.8945\n",
      "\n",
      "Epoch 00028: val_loss did not improve from 0.28329\n",
      "Epoch 29/100\n",
      "15656/15656 [==============================] - 13s 819us/step - loss: 0.2719 - acc: 0.8956 - val_loss: 0.2816 - val_acc: 0.8971\n",
      "\n",
      "Epoch 00029: val_loss improved from 0.28329 to 0.28155, saving model to /home/ehwa009/catkin_ws/nao_ws/src/social_mind/motion_arbiter/config/model.h5\n",
      "Epoch 30/100\n",
      "15656/15656 [==============================] - 13s 830us/step - loss: 0.2717 - acc: 0.8976 - val_loss: 0.2823 - val_acc: 0.8994\n",
      "\n",
      "Epoch 00030: val_loss did not improve from 0.28155\n",
      "Epoch 31/100\n",
      "15656/15656 [==============================] - 13s 828us/step - loss: 0.2671 - acc: 0.8958 - val_loss: 0.2864 - val_acc: 0.8927\n",
      "\n",
      "Epoch 00031: val_loss did not improve from 0.28155\n",
      "Epoch 32/100\n"
     ]
    },
    {
     "name": "stdout",
     "output_type": "stream",
     "text": [
      "15656/15656 [==============================] - 13s 843us/step - loss: 0.2639 - acc: 0.8982 - val_loss: 0.2783 - val_acc: 0.9009\n",
      "\n",
      "Epoch 00032: val_loss improved from 0.28155 to 0.27829, saving model to /home/ehwa009/catkin_ws/nao_ws/src/social_mind/motion_arbiter/config/model.h5\n",
      "Epoch 33/100\n",
      "15656/15656 [==============================] - 13s 842us/step - loss: 0.2588 - acc: 0.8985 - val_loss: 0.2900 - val_acc: 0.8996\n",
      "\n",
      "Epoch 00033: val_loss did not improve from 0.27829\n",
      "Epoch 34/100\n",
      "15656/15656 [==============================] - 13s 825us/step - loss: 0.2541 - acc: 0.9016 - val_loss: 0.2855 - val_acc: 0.8978\n",
      "\n",
      "Epoch 00034: val_loss did not improve from 0.27829\n",
      "Epoch 35/100\n",
      "15656/15656 [==============================] - 13s 832us/step - loss: 0.2546 - acc: 0.9016 - val_loss: 0.2766 - val_acc: 0.8971\n",
      "\n",
      "Epoch 00035: val_loss improved from 0.27829 to 0.27663, saving model to /home/ehwa009/catkin_ws/nao_ws/src/social_mind/motion_arbiter/config/model.h5\n",
      "Epoch 36/100\n",
      "15656/15656 [==============================] - 13s 827us/step - loss: 0.2527 - acc: 0.9024 - val_loss: 0.2767 - val_acc: 0.8960\n",
      "\n",
      "Epoch 00036: val_loss did not improve from 0.27663\n",
      "Epoch 37/100\n",
      "15656/15656 [==============================] - 14s 919us/step - loss: 0.2474 - acc: 0.9037 - val_loss: 0.2825 - val_acc: 0.9006\n",
      "\n",
      "Epoch 00037: val_loss did not improve from 0.27663\n",
      "Epoch 38/100\n",
      "15656/15656 [==============================] - 13s 832us/step - loss: 0.2458 - acc: 0.9045 - val_loss: 0.2841 - val_acc: 0.8968\n",
      "\n",
      "Epoch 00038: val_loss did not improve from 0.27663\n",
      "Epoch 39/100\n",
      "15656/15656 [==============================] - 13s 825us/step - loss: 0.2407 - acc: 0.9044 - val_loss: 0.2774 - val_acc: 0.8958\n",
      "\n",
      "Epoch 00039: val_loss did not improve from 0.27663\n",
      "Epoch 40/100\n",
      "15656/15656 [==============================] - 13s 822us/step - loss: 0.2425 - acc: 0.9041 - val_loss: 0.2739 - val_acc: 0.9047\n",
      "\n",
      "Epoch 00040: val_loss improved from 0.27663 to 0.27389, saving model to /home/ehwa009/catkin_ws/nao_ws/src/social_mind/motion_arbiter/config/model.h5\n",
      "Epoch 41/100\n",
      "15656/15656 [==============================] - 13s 849us/step - loss: 0.2355 - acc: 0.9064 - val_loss: 0.2750 - val_acc: 0.9009\n",
      "\n",
      "Epoch 00041: val_loss did not improve from 0.27389\n",
      "Epoch 42/100\n",
      "15656/15656 [==============================] - 13s 837us/step - loss: 0.2306 - acc: 0.9064 - val_loss: 0.2732 - val_acc: 0.8994\n",
      "\n",
      "Epoch 00042: val_loss improved from 0.27389 to 0.27323, saving model to /home/ehwa009/catkin_ws/nao_ws/src/social_mind/motion_arbiter/config/model.h5\n",
      "Epoch 43/100\n",
      "15656/15656 [==============================] - 13s 843us/step - loss: 0.2282 - acc: 0.9105 - val_loss: 0.2793 - val_acc: 0.9001\n",
      "\n",
      "Epoch 00043: val_loss did not improve from 0.27323\n",
      "Epoch 44/100\n",
      "15656/15656 [==============================] - 13s 850us/step - loss: 0.2271 - acc: 0.9115 - val_loss: 0.2872 - val_acc: 0.9006\n",
      "\n",
      "Epoch 00044: val_loss did not improve from 0.27323\n",
      "Epoch 45/100\n",
      "15656/15656 [==============================] - 14s 903us/step - loss: 0.2276 - acc: 0.9085 - val_loss: 0.2886 - val_acc: 0.8948\n",
      "\n",
      "Epoch 00045: val_loss did not improve from 0.27323\n",
      "Epoch 46/100\n",
      "15656/15656 [==============================] - 13s 854us/step - loss: 0.2258 - acc: 0.9097 - val_loss: 0.2868 - val_acc: 0.8996\n",
      "\n",
      "Epoch 00046: val_loss did not improve from 0.27323\n",
      "Epoch 47/100\n",
      "15656/15656 [==============================] - 16s 1ms/step - loss: 0.2178 - acc: 0.9141 - val_loss: 0.2869 - val_acc: 0.9063\n",
      "\n",
      "Epoch 00047: val_loss did not improve from 0.27323\n",
      "Epoch 00047: early stopping\n"
     ]
    }
   ],
   "source": [
    "hist = model.fit(train_X, train_Y, epochs = 100, batch_size = 32, validation_data = (val_X, val_Y), callbacks = [checkpoint, early_stopping])"
   ]
  },
  {
   "cell_type": "code",
   "execution_count": 33,
   "metadata": {
    "colab": {},
    "colab_type": "code",
    "id": "YjXKos8ocXvw"
   },
   "outputs": [],
   "source": [
    "model = load_model(save_path)"
   ]
  },
  {
   "cell_type": "code",
   "execution_count": 34,
   "metadata": {},
   "outputs": [
    {
     "name": "stdout",
     "output_type": "stream",
     "text": [
      "Accuracy: 89.94%\n"
     ]
    }
   ],
   "source": [
    "scores = model.evaluate(val_X, val_Y, verbose=0)\n",
    "print(\"Accuracy: %.2f%%\"%(scores[1]*100))"
   ]
  },
  {
   "cell_type": "code",
   "execution_count": 35,
   "metadata": {},
   "outputs": [],
   "source": [
    "from sklearn.metrics import classification_report,confusion_matrix\n",
    "from sklearn.utils.multiclass import unique_labels"
   ]
  },
  {
   "cell_type": "code",
   "execution_count": 36,
   "metadata": {},
   "outputs": [
    {
     "name": "stdout",
     "output_type": "stream",
     "text": [
      "[2 2 2 ... 3 2 2]\n",
      "                 precision    recall  f1-score   support\n",
      "\n",
      "multiple_choice       0.80      0.76      0.78        51\n",
      "        welcome       0.80      1.00      0.89         4\n",
      "        request       0.92      0.93      0.92      1855\n",
      "       greeting       0.60      0.26      0.36       113\n",
      "         inform       0.90      0.95      0.92      1671\n",
      " confirm_answer       0.78      0.43      0.56       116\n",
      "         thanks       0.88      0.81      0.84        88\n",
      "        closing       0.68      0.76      0.72        17\n",
      "\n",
      "    avg / total       0.89      0.90      0.89      3915\n",
      "\n"
     ]
    }
   ],
   "source": [
    "y_pred = model.predict_classes(val_X)\n",
    "\n",
    "print(y_pred)\n",
    "\n",
    "target_names = unique_intent\n",
    "\n",
    "print(classification_report(np.argmax(val_Y,axis=1), y_pred, target_names=target_names))\n",
    "# confusion_matrix = confusion_matrix(np.argmax(val_Y, axis=1), y_pred)\n",
    "# print(confusion_matrix)"
   ]
  },
  {
   "cell_type": "code",
   "execution_count": 37,
   "metadata": {
    "scrolled": false
   },
   "outputs": [],
   "source": [
    "import scikitplot as skplt\n",
    "# skplt.metrics.plot_confusion_matrix(np.argmax(val_Y, axis=1), y_pred, normalize=True, \n",
    "#                                     figsize=(14,11))\n",
    "# plt.show()"
   ]
  },
  {
   "cell_type": "code",
   "execution_count": 38,
   "metadata": {},
   "outputs": [],
   "source": [
    "def plot_confusion_matrix(y_true, y_pred, classes,\n",
    "                          normalize=False,\n",
    "                          title=None,\n",
    "                          cmap=plt.cm.Blues):\n",
    "    \"\"\"\n",
    "    This function prints and plots the confusion matrix.\n",
    "    Normalization can be applied by setting `normalize=True`.\n",
    "    \"\"\"\n",
    "    if not title:\n",
    "        if normalize:\n",
    "            title = 'Normalized confusion matrix'\n",
    "        else:\n",
    "            title = 'Confusion matrix, without normalization'\n",
    "\n",
    "    # Compute confusion matrix\n",
    "    cm = confusion_matrix(y_true, y_pred)\n",
    "    # Only use the labels that appear in the data\n",
    "#     classes = classes[unique_labels(y_true, y_pred)]\n",
    "    if normalize:\n",
    "        cm = cm.astype('float') / cm.sum(axis=1)[:, np.newaxis]\n",
    "        print(\"Normalized confusion matrix\")\n",
    "    else:\n",
    "        print('Confusion matrix, without normalization')\n",
    "\n",
    "#     print(cm)\n",
    "\n",
    "    fig, ax = plt.subplots()\n",
    "    fig.set_size_inches(18.5, 10.5)\n",
    "    \n",
    "    im = ax.imshow(cm, interpolation='nearest', cmap=cmap)\n",
    "    ax.figure.colorbar(im, ax=ax)\n",
    "    # We want to show all ticks...\n",
    "    ax.set(xticks=np.arange(cm.shape[1]),\n",
    "           yticks=np.arange(cm.shape[0]),\n",
    "           # ... and label them with the respective list entries\n",
    "           xticklabels=classes, yticklabels=classes,\n",
    "           title=title,\n",
    "           ylabel='True label',\n",
    "           xlabel='Predicted label')\n",
    "\n",
    "    # Rotate the tick labels and set their alignment.\n",
    "    plt.setp(ax.get_xticklabels(), rotation=45, ha=\"right\",\n",
    "             rotation_mode=\"anchor\")\n",
    "\n",
    "    # Loop over data dimensions and create text annotations.\n",
    "    fmt = '.2f' if normalize else 'd'\n",
    "    thresh = cm.max() / 2.\n",
    "    for i in range(cm.shape[0]):\n",
    "        for j in range(cm.shape[1]):\n",
    "            ax.text(j, i, format(cm[i, j], fmt),\n",
    "                    ha=\"center\", va=\"center\",\n",
    "                    color=\"white\" if cm[i, j] > thresh else \"black\")\n",
    "#     fig.tight_layout()\n",
    "    return ax"
   ]
  },
  {
   "cell_type": "code",
   "execution_count": 39,
   "metadata": {},
   "outputs": [
    {
     "name": "stdout",
     "output_type": "stream",
     "text": [
      "Normalized confusion matrix\n"
     ]
    },
    {
     "name": "stderr",
     "output_type": "stream",
     "text": [
      "/usr/local/lib/python2.7/dist-packages/matplotlib/font_manager.py:1331: UserWarning: findfont: Font family [u'normal'] not found. Falling back to DejaVu Sans\n",
      "  (prop.get_family(), self.defaultFamily[fontext]))\n"
     ]
    },
    {
     "data": {
      "image/png": "[encoded data removed]",
      "text/plain": [
       "<Figure size 1332x756 with 2 Axes>"
      ]
     },
     "metadata": {},
     "output_type": "display_data"
    }
   ],
   "source": [
    "font = {'family' : 'normal',\n",
    "        'weight' : 'bold',\n",
    "        'size'   : 18}\n",
    "matplotlib.rc('font', **font)\n",
    "plot_confusion_matrix(np.argmax(val_Y, axis=1), y_pred, classes=target_names, normalize=True, title='confusion matrix')\n",
    "plt.show()"
   ]
  },
  {
   "cell_type": "code",
   "execution_count": 40,
   "metadata": {
    "colab": {},
    "colab_type": "code",
    "id": "qSTEzrlzcuya"
   },
   "outputs": [],
   "source": [
    "def predictions(text):\n",
    "    clean = re.sub(r'[^ a-z A-Z 0-9]', \" \", text)\n",
    "    test_word = word_tokenize(clean)\n",
    "    test_word = [w.lower() for w in test_word]\n",
    "    test_ls = word_tokenizer.texts_to_sequences(test_word)\n",
    "    print(test_word)\n",
    "    #Check for unknown words\n",
    "    if [] in test_ls:\n",
    "        test_ls = list(filter(None, test_ls))\n",
    "\n",
    "    test_ls = np.array(test_ls).reshape(1, len(test_ls))\n",
    "\n",
    "    x = padding_doc(test_ls, max_length)\n",
    "    print(x.shape)\n",
    "\n",
    "#     pred = model.predict_proba(x)\n",
    "    pred = model.predict_classes(x)\n",
    "\n",
    "\n",
    "    return pred"
   ]
  },
  {
   "cell_type": "code",
   "execution_count": 41,
   "metadata": {
    "colab": {},
    "colab_type": "code",
    "id": "P1ddofshmdzK"
   },
   "outputs": [],
   "source": [
    "def get_final_output(pred, classes):\n",
    "    predictions = pred[0]\n",
    "    classes = np.array(classes) \n",
    "    ids = np.argsort(-predictions)\n",
    "    classes = classes[ids]\n",
    "    predictions = -np.sort(-predictions)\n",
    "    predict = list(predictions).index(max(predictions))\n",
    "    print(predict)\n",
    "    print(classes[predict])\n",
    "    \n",
    "\n",
    "#     for i in range(pred.shape[1]):\n",
    "#         print(\"%s has confidence = %s\" % (classes[i], (predictions[i])))\n",
    "\n"
   ]
  },
  {
   "cell_type": "code",
   "execution_count": 42,
   "metadata": {
    "colab": {
     "base_uri": "https://localhost:8080/",
     "height": 391
    },
    "colab_type": "code",
    "id": "23VpGuihMdEU",
    "outputId": "cd36c932-0fb0-4166-92ae-546a7676e645"
   },
   "outputs": [
    {
     "name": "stdout",
     "output_type": "stream",
     "text": [
      "['can', 'i', 'get', 'your', 'name']\n",
      "(1, 25)\n",
      "[2]\n",
      "[u'multiple_choice', u'welcome', u'request', u'greeting', u'inform', u'confirm_answer', u'thanks', u'closing']\n"
     ]
    },
    {
     "data": {
      "text/plain": [
       "'request'"
      ]
     },
     "execution_count": 42,
     "metadata": {},
     "output_type": "execute_result"
    }
   ],
   "source": [
    "text = \"can i get your name?\"\n",
    "pred = predictions(text)\n",
    "print(pred)\n",
    "# get_final_output(pred, unique_intent)\n",
    "print(unique_intent)\n",
    "str(unique_intent[pred[0]])"
   ]
  },
  {
   "cell_type": "code",
   "execution_count": null,
   "metadata": {
    "colab": {},
    "colab_type": "code",
    "id": "bKUBDT36IHKO"
   },
   "outputs": [],
   "source": []
  }
 ],
 "metadata": {
  "accelerator": "TPU",
  "colab": {
   "collapsed_sections": [],
   "include_colab_link": true,
   "name": "Intent_classification_final.ipynb",
   "provenance": [],
   "version": "0.3.2"
  },
  "kernelspec": {
   "display_name": "Python 3",
   "language": "python",
   "name": "python3"
  },
  "language_info": {
   "codemirror_mode": {
    "name": "ipython",
    "version": 2
   },
   "file_extension": ".py",
   "mimetype": "text/x-python",
   "name": "python",
   "nbconvert_exporter": "python",
   "pygments_lexer": "ipython2",
   "version": "2.7.12"
  }
 },
 "nbformat": 4,
 "nbformat_minor": 1
}
